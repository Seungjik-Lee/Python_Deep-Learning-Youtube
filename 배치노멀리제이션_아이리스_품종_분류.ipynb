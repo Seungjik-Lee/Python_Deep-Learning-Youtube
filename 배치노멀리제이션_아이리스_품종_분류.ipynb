{
  "nbformat": 4,
  "nbformat_minor": 0,
  "metadata": {
    "colab": {
      "name": "배치노멀리제이션_아이리스 품종 분류.ipynb",
      "provenance": [],
      "collapsed_sections": [],
      "toc_visible": true,
      "authorship_tag": "ABX9TyMwJI6SyzTa41bFfnhZ0DBj",
      "include_colab_link": true
    },
    "kernelspec": {
      "name": "python3",
      "display_name": "Python 3"
    },
    "language_info": {
      "name": "python"
    }
  },
  "cells": [
    {
      "cell_type": "markdown",
      "metadata": {
        "id": "view-in-github",
        "colab_type": "text"
      },
      "source": [
        "<a href=\"https://colab.research.google.com/github/Seungjik-Lee/Python_Deep-Learning-Youtube/blob/main/%EB%B0%B0%EC%B9%98%EB%85%B8%EB%A9%80%EB%A6%AC%EC%A0%9C%EC%9D%B4%EC%85%98_%EC%95%84%EC%9D%B4%EB%A6%AC%EC%8A%A4_%ED%92%88%EC%A2%85_%EB%B6%84%EB%A5%98.ipynb\" target=\"_parent\"><img src=\"https://colab.research.google.com/assets/colab-badge.svg\" alt=\"Open In Colab\"/></a>"
      ]
    },
    {
      "cell_type": "markdown",
      "metadata": {
        "id": "IXZDSpa-Cih8"
      },
      "source": [
        "# 라이브러리 임포트"
      ]
    },
    {
      "cell_type": "code",
      "metadata": {
        "id": "BAK9TnQFClJ7"
      },
      "source": [
        "import tensorflow as tf\n",
        "import pandas as pd"
      ],
      "execution_count": 13,
      "outputs": []
    },
    {
      "cell_type": "markdown",
      "metadata": {
        "id": "rzGOArY-CsOW"
      },
      "source": [
        "# 데이터 준비"
      ]
    },
    {
      "cell_type": "code",
      "metadata": {
        "colab": {
          "base_uri": "https://localhost:8080/",
          "height": 204
        },
        "id": "CxYDJExfA1-C",
        "outputId": "86ad1472-9f50-4f5c-e9dc-d61c3da2f7cd"
      },
      "source": [
        "Iris_filepath = 'https://raw.githubusercontent.com/blackdew/tensorflow1/master/csv/iris.csv'\n",
        "Iris_data = pd.read_csv(Iris_filepath)\n",
        "Iris_data.head()"
      ],
      "execution_count": 14,
      "outputs": [
        {
          "output_type": "execute_result",
          "data": {
            "text/html": [
              "<div>\n",
              "<style scoped>\n",
              "    .dataframe tbody tr th:only-of-type {\n",
              "        vertical-align: middle;\n",
              "    }\n",
              "\n",
              "    .dataframe tbody tr th {\n",
              "        vertical-align: top;\n",
              "    }\n",
              "\n",
              "    .dataframe thead th {\n",
              "        text-align: right;\n",
              "    }\n",
              "</style>\n",
              "<table border=\"1\" class=\"dataframe\">\n",
              "  <thead>\n",
              "    <tr style=\"text-align: right;\">\n",
              "      <th></th>\n",
              "      <th>꽃잎길이</th>\n",
              "      <th>꽃잎폭</th>\n",
              "      <th>꽃받침길이</th>\n",
              "      <th>꽃받침폭</th>\n",
              "      <th>품종</th>\n",
              "    </tr>\n",
              "  </thead>\n",
              "  <tbody>\n",
              "    <tr>\n",
              "      <th>0</th>\n",
              "      <td>5.1</td>\n",
              "      <td>3.5</td>\n",
              "      <td>1.4</td>\n",
              "      <td>0.2</td>\n",
              "      <td>setosa</td>\n",
              "    </tr>\n",
              "    <tr>\n",
              "      <th>1</th>\n",
              "      <td>4.9</td>\n",
              "      <td>3.0</td>\n",
              "      <td>1.4</td>\n",
              "      <td>0.2</td>\n",
              "      <td>setosa</td>\n",
              "    </tr>\n",
              "    <tr>\n",
              "      <th>2</th>\n",
              "      <td>4.7</td>\n",
              "      <td>3.2</td>\n",
              "      <td>1.3</td>\n",
              "      <td>0.2</td>\n",
              "      <td>setosa</td>\n",
              "    </tr>\n",
              "    <tr>\n",
              "      <th>3</th>\n",
              "      <td>4.6</td>\n",
              "      <td>3.1</td>\n",
              "      <td>1.5</td>\n",
              "      <td>0.2</td>\n",
              "      <td>setosa</td>\n",
              "    </tr>\n",
              "    <tr>\n",
              "      <th>4</th>\n",
              "      <td>5.0</td>\n",
              "      <td>3.6</td>\n",
              "      <td>1.4</td>\n",
              "      <td>0.2</td>\n",
              "      <td>setosa</td>\n",
              "    </tr>\n",
              "  </tbody>\n",
              "</table>\n",
              "</div>"
            ],
            "text/plain": [
              "   꽃잎길이  꽃잎폭  꽃받침길이  꽃받침폭      품종\n",
              "0   5.1  3.5    1.4   0.2  setosa\n",
              "1   4.9  3.0    1.4   0.2  setosa\n",
              "2   4.7  3.2    1.3   0.2  setosa\n",
              "3   4.6  3.1    1.5   0.2  setosa\n",
              "4   5.0  3.6    1.4   0.2  setosa"
            ]
          },
          "metadata": {
            "tags": []
          },
          "execution_count": 14
        }
      ]
    },
    {
      "cell_type": "markdown",
      "metadata": {
        "id": "cQWh5fxoC07w"
      },
      "source": [
        "# 원-핫-인코딩"
      ]
    },
    {
      "cell_type": "code",
      "metadata": {
        "colab": {
          "base_uri": "https://localhost:8080/",
          "height": 204
        },
        "id": "u1UHAMprC29l",
        "outputId": "93b0efcc-68ba-40fc-d29b-e37340ff9e77"
      },
      "source": [
        "encoding = pd.get_dummies(Iris_data)\n",
        "encoding.head()"
      ],
      "execution_count": 15,
      "outputs": [
        {
          "output_type": "execute_result",
          "data": {
            "text/html": [
              "<div>\n",
              "<style scoped>\n",
              "    .dataframe tbody tr th:only-of-type {\n",
              "        vertical-align: middle;\n",
              "    }\n",
              "\n",
              "    .dataframe tbody tr th {\n",
              "        vertical-align: top;\n",
              "    }\n",
              "\n",
              "    .dataframe thead th {\n",
              "        text-align: right;\n",
              "    }\n",
              "</style>\n",
              "<table border=\"1\" class=\"dataframe\">\n",
              "  <thead>\n",
              "    <tr style=\"text-align: right;\">\n",
              "      <th></th>\n",
              "      <th>꽃잎길이</th>\n",
              "      <th>꽃잎폭</th>\n",
              "      <th>꽃받침길이</th>\n",
              "      <th>꽃받침폭</th>\n",
              "      <th>품종_setosa</th>\n",
              "      <th>품종_versicolor</th>\n",
              "      <th>품종_virginica</th>\n",
              "    </tr>\n",
              "  </thead>\n",
              "  <tbody>\n",
              "    <tr>\n",
              "      <th>0</th>\n",
              "      <td>5.1</td>\n",
              "      <td>3.5</td>\n",
              "      <td>1.4</td>\n",
              "      <td>0.2</td>\n",
              "      <td>1</td>\n",
              "      <td>0</td>\n",
              "      <td>0</td>\n",
              "    </tr>\n",
              "    <tr>\n",
              "      <th>1</th>\n",
              "      <td>4.9</td>\n",
              "      <td>3.0</td>\n",
              "      <td>1.4</td>\n",
              "      <td>0.2</td>\n",
              "      <td>1</td>\n",
              "      <td>0</td>\n",
              "      <td>0</td>\n",
              "    </tr>\n",
              "    <tr>\n",
              "      <th>2</th>\n",
              "      <td>4.7</td>\n",
              "      <td>3.2</td>\n",
              "      <td>1.3</td>\n",
              "      <td>0.2</td>\n",
              "      <td>1</td>\n",
              "      <td>0</td>\n",
              "      <td>0</td>\n",
              "    </tr>\n",
              "    <tr>\n",
              "      <th>3</th>\n",
              "      <td>4.6</td>\n",
              "      <td>3.1</td>\n",
              "      <td>1.5</td>\n",
              "      <td>0.2</td>\n",
              "      <td>1</td>\n",
              "      <td>0</td>\n",
              "      <td>0</td>\n",
              "    </tr>\n",
              "    <tr>\n",
              "      <th>4</th>\n",
              "      <td>5.0</td>\n",
              "      <td>3.6</td>\n",
              "      <td>1.4</td>\n",
              "      <td>0.2</td>\n",
              "      <td>1</td>\n",
              "      <td>0</td>\n",
              "      <td>0</td>\n",
              "    </tr>\n",
              "  </tbody>\n",
              "</table>\n",
              "</div>"
            ],
            "text/plain": [
              "   꽃잎길이  꽃잎폭  꽃받침길이  꽃받침폭  품종_setosa  품종_versicolor  품종_virginica\n",
              "0   5.1  3.5    1.4   0.2          1              0             0\n",
              "1   4.9  3.0    1.4   0.2          1              0             0\n",
              "2   4.7  3.2    1.3   0.2          1              0             0\n",
              "3   4.6  3.1    1.5   0.2          1              0             0\n",
              "4   5.0  3.6    1.4   0.2          1              0             0"
            ]
          },
          "metadata": {
            "tags": []
          },
          "execution_count": 15
        }
      ]
    },
    {
      "cell_type": "markdown",
      "metadata": {
        "id": "-uCOFQbKC65o"
      },
      "source": [
        "# 독립변수와 종속변수 분리"
      ]
    },
    {
      "cell_type": "code",
      "metadata": {
        "colab": {
          "base_uri": "https://localhost:8080/"
        },
        "id": "QgIX6xOnC-XN",
        "outputId": "fa4b2d4e-7112-4cdc-d611-271f519d2c56"
      },
      "source": [
        "print(encoding.columns)"
      ],
      "execution_count": 16,
      "outputs": [
        {
          "output_type": "stream",
          "text": [
            "Index(['꽃잎길이', '꽃잎폭', '꽃받침길이', '꽃받침폭', '품종_setosa', '품종_versicolor',\n",
            "       '품종_virginica'],\n",
            "      dtype='object')\n"
          ],
          "name": "stdout"
        }
      ]
    },
    {
      "cell_type": "code",
      "metadata": {
        "colab": {
          "base_uri": "https://localhost:8080/"
        },
        "id": "SBjhyRV_DBKC",
        "outputId": "3c0da55f-ced4-4412-e00e-385121fa9fd6"
      },
      "source": [
        "Independent_variable = encoding[['꽃잎길이', '꽃잎폭', '꽃받침길이', '꽃받침폭']]\n",
        "Dependent_variable = encoding[['품종_setosa', '품종_versicolor', '품종_virginica']]\n",
        "print(Independent_variable.shape, Dependent_variable.shape)"
      ],
      "execution_count": 17,
      "outputs": [
        {
          "output_type": "stream",
          "text": [
            "(150, 4) (150, 3)\n"
          ],
          "name": "stdout"
        }
      ]
    },
    {
      "cell_type": "markdown",
      "metadata": {
        "id": "M5B3FGjLDCmF"
      },
      "source": [
        "# 모델 만들기"
      ]
    },
    {
      "cell_type": "code",
      "metadata": {
        "id": "u4qRuCEzDGWc"
      },
      "source": [
        "X = tf.keras.layers.Input(shape = [4])\n",
        "\n",
        "\n",
        "H = tf.keras.layers.Dense(8)(X)\n",
        "H = tf.keras.layers.BatchNormalization()(H)\n",
        "H = tf.keras.layers.Activation('swish')(H)\n",
        " \n",
        "H = tf.keras.layers.Dense(8)(H)\n",
        "H = tf.keras.layers.BatchNormalization()(H)\n",
        "H = tf.keras.layers.Activation('swish')(H)\n",
        " \n",
        "H = tf.keras.layers.Dense(8)(H)\n",
        "H = tf.keras.layers.BatchNormalization()(H)\n",
        "H = tf.keras.layers.Activation('swish')(H)\n",
        "\n",
        "Y = tf.keras.layers.Dense(3, activation='softmax')(H)\n",
        "\n",
        "model = tf.keras.models.Model(X, Y)\n",
        "model.compile(loss='categorical_crossentropy', metrics='accuracy')"
      ],
      "execution_count": 18,
      "outputs": []
    },
    {
      "cell_type": "code",
      "metadata": {
        "colab": {
          "base_uri": "https://localhost:8080/"
        },
        "id": "OP52N0zMEvig",
        "outputId": "81d239fd-b4e5-4e37-c9f3-64c9a7eea818"
      },
      "source": [
        "model.summary()"
      ],
      "execution_count": 19,
      "outputs": [
        {
          "output_type": "stream",
          "text": [
            "Model: \"model_1\"\n",
            "_________________________________________________________________\n",
            "Layer (type)                 Output Shape              Param #   \n",
            "=================================================================\n",
            "input_2 (InputLayer)         [(None, 4)]               0         \n",
            "_________________________________________________________________\n",
            "dense_4 (Dense)              (None, 8)                 40        \n",
            "_________________________________________________________________\n",
            "batch_normalization (BatchNo (None, 8)                 32        \n",
            "_________________________________________________________________\n",
            "activation (Activation)      (None, 8)                 0         \n",
            "_________________________________________________________________\n",
            "dense_5 (Dense)              (None, 8)                 72        \n",
            "_________________________________________________________________\n",
            "batch_normalization_1 (Batch (None, 8)                 32        \n",
            "_________________________________________________________________\n",
            "activation_1 (Activation)    (None, 8)                 0         \n",
            "_________________________________________________________________\n",
            "dense_6 (Dense)              (None, 8)                 72        \n",
            "_________________________________________________________________\n",
            "batch_normalization_2 (Batch (None, 8)                 32        \n",
            "_________________________________________________________________\n",
            "activation_2 (Activation)    (None, 8)                 0         \n",
            "_________________________________________________________________\n",
            "dense_7 (Dense)              (None, 3)                 27        \n",
            "=================================================================\n",
            "Total params: 307\n",
            "Trainable params: 259\n",
            "Non-trainable params: 48\n",
            "_________________________________________________________________\n"
          ],
          "name": "stdout"
        }
      ]
    },
    {
      "cell_type": "markdown",
      "metadata": {
        "id": "y1j8LLtiDJ7t"
      },
      "source": [
        "# 모델 학습"
      ]
    },
    {
      "cell_type": "code",
      "metadata": {
        "colab": {
          "base_uri": "https://localhost:8080/"
        },
        "id": "RnJeeCtMDMX7",
        "outputId": "cbf22fd3-e604-4754-e8a5-43fb9c2abb3f"
      },
      "source": [
        "model.fit(Independent_variable, Dependent_variable, epochs = 1000, verbose = 0)\n",
        "model.fit(Independent_variable, Dependent_variable, epochs = 10)"
      ],
      "execution_count": 20,
      "outputs": [
        {
          "output_type": "stream",
          "text": [
            "Epoch 1/10\n",
            "5/5 [==============================] - 0s 4ms/step - loss: 0.0384 - accuracy: 0.9867\n",
            "Epoch 2/10\n",
            "5/5 [==============================] - 0s 3ms/step - loss: 0.0631 - accuracy: 0.9800\n",
            "Epoch 3/10\n",
            "5/5 [==============================] - 0s 3ms/step - loss: 0.0465 - accuracy: 0.9800\n",
            "Epoch 4/10\n",
            "5/5 [==============================] - 0s 3ms/step - loss: 0.0442 - accuracy: 0.9867\n",
            "Epoch 5/10\n",
            "5/5 [==============================] - 0s 4ms/step - loss: 0.0439 - accuracy: 0.9800\n",
            "Epoch 6/10\n",
            "5/5 [==============================] - 0s 4ms/step - loss: 0.0350 - accuracy: 0.9867\n",
            "Epoch 7/10\n",
            "5/5 [==============================] - 0s 3ms/step - loss: 0.0438 - accuracy: 0.9933\n",
            "Epoch 8/10\n",
            "5/5 [==============================] - 0s 4ms/step - loss: 0.0633 - accuracy: 0.9533\n",
            "Epoch 9/10\n",
            "5/5 [==============================] - 0s 3ms/step - loss: 0.0464 - accuracy: 0.9867\n",
            "Epoch 10/10\n",
            "5/5 [==============================] - 0s 3ms/step - loss: 0.0345 - accuracy: 0.9933\n"
          ],
          "name": "stdout"
        },
        {
          "output_type": "execute_result",
          "data": {
            "text/plain": [
              "<tensorflow.python.keras.callbacks.History at 0x7ffad27f1110>"
            ]
          },
          "metadata": {
            "tags": []
          },
          "execution_count": 20
        }
      ]
    },
    {
      "cell_type": "markdown",
      "metadata": {
        "id": "QiODPqFGDWfP"
      },
      "source": [
        "# 모델 이용"
      ]
    },
    {
      "cell_type": "code",
      "metadata": {
        "colab": {
          "base_uri": "https://localhost:8080/"
        },
        "id": "lbK6lcYEDZGX",
        "outputId": "3a5261d2-74f8-4056-dabc-12791cc8347c"
      },
      "source": [
        "model.predict(Independent_variable[0:5])"
      ],
      "execution_count": 21,
      "outputs": [
        {
          "output_type": "execute_result",
          "data": {
            "text/plain": [
              "array([[1.0000000e+00, 8.1064810e-13, 1.0774692e-16],\n",
              "       [1.0000000e+00, 2.2145090e-11, 1.5431259e-17],\n",
              "       [1.0000000e+00, 1.9251495e-13, 5.2881130e-17],\n",
              "       [1.0000000e+00, 6.2964287e-12, 6.7159363e-16],\n",
              "       [1.0000000e+00, 1.1009463e-12, 4.2005939e-16]], dtype=float32)"
            ]
          },
          "metadata": {
            "tags": []
          },
          "execution_count": 21
        }
      ]
    },
    {
      "cell_type": "code",
      "metadata": {
        "colab": {
          "base_uri": "https://localhost:8080/"
        },
        "id": "3ru02iIDDeem",
        "outputId": "3d168ba9-d391-4c06-d777-0d8ed6e906d1"
      },
      "source": [
        "print(Dependent_variable[0:5])"
      ],
      "execution_count": 22,
      "outputs": [
        {
          "output_type": "stream",
          "text": [
            "   품종_setosa  품종_versicolor  품종_virginica\n",
            "0          1              0             0\n",
            "1          1              0             0\n",
            "2          1              0             0\n",
            "3          1              0             0\n",
            "4          1              0             0\n"
          ],
          "name": "stdout"
        }
      ]
    },
    {
      "cell_type": "code",
      "metadata": {
        "colab": {
          "base_uri": "https://localhost:8080/"
        },
        "id": "nAGVrwuMENYE",
        "outputId": "e4eed20b-d184-4360-bdf6-77b678482538"
      },
      "source": [
        "model.predict(Independent_variable)"
      ],
      "execution_count": 23,
      "outputs": [
        {
          "output_type": "execute_result",
          "data": {
            "text/plain": [
              "array([[1.00000000e+00, 8.10648098e-13, 1.07746919e-16],\n",
              "       [1.00000000e+00, 2.21450896e-11, 1.54312595e-17],\n",
              "       [1.00000000e+00, 1.92514949e-13, 5.28811305e-17],\n",
              "       [1.00000000e+00, 6.29642866e-12, 6.71593630e-16],\n",
              "       [1.00000000e+00, 1.10094627e-12, 4.20059388e-16],\n",
              "       [1.00000000e+00, 3.62589936e-09, 2.01462154e-12],\n",
              "       [1.00000000e+00, 5.68748130e-12, 2.39879409e-14],\n",
              "       [1.00000000e+00, 3.37729454e-12, 3.23365786e-16],\n",
              "       [1.00000000e+00, 4.87243336e-11, 1.10877486e-16],\n",
              "       [1.00000000e+00, 1.08068209e-12, 1.94921265e-18],\n",
              "       [1.00000000e+00, 4.96542391e-12, 2.03667471e-16],\n",
              "       [1.00000000e+00, 1.82886397e-11, 4.09415831e-15],\n",
              "       [1.00000000e+00, 9.37713774e-13, 5.92881911e-19],\n",
              "       [1.00000000e+00, 1.46352860e-14, 1.20572638e-19],\n",
              "       [1.00000000e+00, 8.97294866e-14, 6.19080541e-18],\n",
              "       [1.00000000e+00, 3.16611903e-10, 4.33748117e-13],\n",
              "       [1.00000000e+00, 1.47495020e-11, 5.13280892e-14],\n",
              "       [1.00000000e+00, 5.07002643e-12, 3.20904573e-15],\n",
              "       [1.00000000e+00, 5.78550985e-10, 1.34637166e-14],\n",
              "       [1.00000000e+00, 4.34126797e-11, 5.08812691e-14],\n",
              "       [1.00000000e+00, 1.16232884e-10, 1.55918582e-16],\n",
              "       [1.00000000e+00, 2.00684983e-10, 6.39194535e-13],\n",
              "       [1.00000000e+00, 3.92688879e-15, 1.22627640e-17],\n",
              "       [1.00000000e+00, 2.88945330e-08, 3.58195799e-11],\n",
              "       [1.00000000e+00, 3.06415293e-09, 1.63437663e-13],\n",
              "       [1.00000000e+00, 2.94377717e-10, 5.01327832e-17],\n",
              "       [1.00000000e+00, 6.26815655e-10, 8.46619216e-13],\n",
              "       [1.00000000e+00, 3.85869114e-12, 1.65350096e-16],\n",
              "       [1.00000000e+00, 7.62273111e-13, 2.50745559e-17],\n",
              "       [1.00000000e+00, 1.87998887e-11, 2.25847465e-15],\n",
              "       [1.00000000e+00, 3.78146195e-11, 5.47528503e-16],\n",
              "       [1.00000000e+00, 2.15748350e-10, 4.03753433e-14],\n",
              "       [1.00000000e+00, 1.12440049e-12, 2.08638932e-16],\n",
              "       [1.00000000e+00, 2.16220227e-12, 6.81844476e-16],\n",
              "       [1.00000000e+00, 1.08068209e-12, 1.94921265e-18],\n",
              "       [1.00000000e+00, 1.05585706e-13, 3.21483642e-18],\n",
              "       [1.00000000e+00, 2.07675267e-13, 2.02602568e-18],\n",
              "       [1.00000000e+00, 1.08068209e-12, 1.94921265e-18],\n",
              "       [1.00000000e+00, 1.94707076e-12, 5.29495582e-17],\n",
              "       [1.00000000e+00, 3.46555185e-12, 1.57316001e-16],\n",
              "       [1.00000000e+00, 1.20037487e-12, 1.71291492e-15],\n",
              "       [9.93119121e-01, 6.88089291e-03, 3.65566236e-20],\n",
              "       [1.00000000e+00, 1.76114603e-13, 2.13072342e-16],\n",
              "       [1.00000000e+00, 3.10758566e-08, 7.69932451e-10],\n",
              "       [9.99999881e-01, 7.53243299e-08, 2.23689765e-11],\n",
              "       [1.00000000e+00, 2.92535107e-10, 1.41524329e-15],\n",
              "       [1.00000000e+00, 2.84439711e-11, 6.63217904e-15],\n",
              "       [1.00000000e+00, 7.35197818e-13, 3.41730016e-16],\n",
              "       [1.00000000e+00, 5.07126416e-12, 3.92514935e-16],\n",
              "       [1.00000000e+00, 7.11422512e-13, 5.21447611e-17],\n",
              "       [7.74344699e-06, 9.99986410e-01, 5.81214272e-06],\n",
              "       [1.31814131e-05, 9.99894261e-01, 9.24902633e-05],\n",
              "       [3.51085218e-05, 9.99249756e-01, 7.15106435e-04],\n",
              "       [8.73200042e-06, 9.99750674e-01, 2.40576075e-04],\n",
              "       [7.64548531e-06, 9.99965429e-01, 2.69734173e-05],\n",
              "       [1.12880662e-05, 9.98882115e-01, 1.10655453e-03],\n",
              "       [3.11569056e-05, 9.98255074e-01, 1.71370769e-03],\n",
              "       [6.83044661e-08, 9.99999762e-01, 7.90302011e-08],\n",
              "       [1.51022527e-06, 9.99997973e-01, 5.10534164e-07],\n",
              "       [2.14768716e-05, 9.95541275e-01, 4.43728780e-03],\n",
              "       [1.09137286e-08, 1.00000000e+00, 3.90171095e-09],\n",
              "       [2.22874260e-05, 9.99432504e-01, 5.45192801e-04],\n",
              "       [9.39272132e-11, 1.00000000e+00, 1.37229611e-17],\n",
              "       [4.40743897e-05, 9.93572831e-01, 6.38308376e-03],\n",
              "       [1.20942977e-05, 9.99965906e-01, 2.20972761e-05],\n",
              "       [1.89609568e-06, 9.99997973e-01, 1.33929973e-07],\n",
              "       [8.54857080e-06, 9.99222994e-01, 7.68386293e-04],\n",
              "       [1.40303868e-07, 9.99999881e-01, 1.02068025e-08],\n",
              "       [2.00672775e-06, 9.99996305e-01, 1.61208686e-06],\n",
              "       [7.51750662e-08, 9.99999881e-01, 5.86665294e-09],\n",
              "       [1.61907723e-04, 8.80932987e-01, 1.18905008e-01],\n",
              "       [8.92117214e-07, 9.99999166e-01, 3.58585019e-08],\n",
              "       [1.88364720e-04, 9.14011061e-01, 8.58005062e-02],\n",
              "       [3.76624921e-05, 9.95996833e-01, 3.96555895e-03],\n",
              "       [5.11926430e-07, 9.99999523e-01, 1.68844299e-08],\n",
              "       [1.39110625e-06, 9.99998450e-01, 1.18948527e-07],\n",
              "       [1.52664904e-06, 9.99997735e-01, 6.88900002e-07],\n",
              "       [3.09320807e-04, 8.50642443e-01, 1.49048239e-01],\n",
              "       [3.69017544e-05, 9.96311367e-01, 3.65173956e-03],\n",
              "       [4.65424854e-08, 1.00000000e+00, 4.65141684e-12],\n",
              "       [6.25414245e-08, 9.99999881e-01, 6.94054858e-09],\n",
              "       [8.95209951e-09, 1.00000000e+00, 3.75100402e-11],\n",
              "       [3.78416303e-07, 9.99999642e-01, 2.52442494e-08],\n",
              "       [2.07808174e-04, 9.12351981e-02, 9.08556998e-01],\n",
              "       [4.01847819e-06, 9.99695778e-01, 3.00237676e-04],\n",
              "       [3.59528212e-06, 9.99977708e-01, 1.87236983e-05],\n",
              "       [1.67315520e-05, 9.99855399e-01, 1.27923704e-04],\n",
              "       [1.09518261e-08, 1.00000000e+00, 4.38411113e-12],\n",
              "       [6.17823389e-07, 9.99998689e-01, 6.75332558e-07],\n",
              "       [7.50839172e-06, 9.99722302e-01, 2.70114775e-04],\n",
              "       [8.62253000e-06, 9.98685539e-01, 1.30587281e-03],\n",
              "       [1.63468358e-05, 9.99272168e-01, 7.11562519e-04],\n",
              "       [2.72903549e-07, 9.99999762e-01, 3.07184891e-08],\n",
              "       [4.94060650e-08, 1.00000000e+00, 1.94658476e-08],\n",
              "       [3.73376065e-06, 9.99908447e-01, 8.78707579e-05],\n",
              "       [5.18113723e-07, 9.99999046e-01, 4.69816399e-07],\n",
              "       [1.41281259e-06, 9.99992967e-01, 5.63495996e-06],\n",
              "       [1.21800838e-06, 9.99998331e-01, 4.25429846e-07],\n",
              "       [2.14733882e-06, 9.99997735e-01, 1.77368619e-07],\n",
              "       [1.97513396e-06, 9.99990463e-01, 7.46037858e-06],\n",
              "       [1.07280248e-04, 4.55476018e-03, 9.95337963e-01],\n",
              "       [1.10232242e-04, 7.25297304e-03, 9.92636800e-01],\n",
              "       [1.34544869e-04, 1.42947463e-02, 9.85570669e-01],\n",
              "       [1.38476462e-04, 1.63577255e-02, 9.83503819e-01],\n",
              "       [1.16386102e-04, 7.59082520e-03, 9.92292762e-01],\n",
              "       [1.15439063e-04, 7.05812266e-03, 9.92826462e-01],\n",
              "       [1.15534654e-04, 2.18470600e-02, 9.78037357e-01],\n",
              "       [1.11823763e-04, 6.33455347e-03, 9.93553638e-01],\n",
              "       [1.13778857e-04, 9.74120945e-03, 9.90145087e-01],\n",
              "       [1.12042522e-04, 7.49409711e-03, 9.92393851e-01],\n",
              "       [2.25523938e-04, 4.05121185e-02, 9.59262311e-01],\n",
              "       [1.31047986e-04, 1.38784768e-02, 9.85990524e-01],\n",
              "       [1.36700546e-04, 1.22272829e-02, 9.87636030e-01],\n",
              "       [1.02455720e-04, 4.05352237e-03, 9.95844066e-01],\n",
              "       [2.53771752e-04, 1.45703023e-02, 9.85175848e-01],\n",
              "       [9.98722753e-05, 4.27933969e-03, 9.95620787e-01],\n",
              "       [1.75327630e-04, 3.26772928e-02, 9.67147410e-01],\n",
              "       [1.17342148e-04, 6.79806620e-03, 9.93084550e-01],\n",
              "       [1.34521251e-04, 8.25166702e-03, 9.91613865e-01],\n",
              "       [1.80953546e-04, 7.30001256e-02, 9.26818848e-01],\n",
              "       [1.16042080e-04, 6.75903773e-03, 9.93124902e-01],\n",
              "       [1.05168467e-04, 6.32632012e-03, 9.93568540e-01],\n",
              "       [1.11680572e-04, 6.15715003e-03, 9.93731201e-01],\n",
              "       [2.23615891e-04, 4.11572345e-02, 9.58619177e-01],\n",
              "       [1.43643381e-04, 1.67005975e-02, 9.83155727e-01],\n",
              "       [1.30691813e-04, 1.01743005e-02, 9.89694953e-01],\n",
              "       [2.40648529e-04, 4.82340269e-02, 9.51525271e-01],\n",
              "       [3.06811213e-04, 1.84085473e-01, 8.15607667e-01],\n",
              "       [1.14099887e-04, 7.20083062e-03, 9.92685080e-01],\n",
              "       [1.75400404e-04, 2.14930698e-02, 9.78331566e-01],\n",
              "       [1.25735634e-04, 1.17339185e-02, 9.88140345e-01],\n",
              "       [1.11595567e-04, 6.36137137e-03, 9.93527055e-01],\n",
              "       [1.06403291e-04, 5.13988594e-03, 9.94753718e-01],\n",
              "       [3.30992712e-04, 3.38100731e-01, 6.61568284e-01],\n",
              "       [1.19951903e-04, 9.30087455e-03, 9.90579188e-01],\n",
              "       [1.34455287e-04, 1.70324054e-02, 9.82833207e-01],\n",
              "       [1.06551321e-04, 5.47672668e-03, 9.94416714e-01],\n",
              "       [1.76767920e-04, 3.41184735e-02, 9.65704799e-01],\n",
              "       [3.12925113e-04, 2.02041775e-01, 7.97645271e-01],\n",
              "       [1.59056086e-04, 1.62713919e-02, 9.83569562e-01],\n",
              "       [9.94490692e-05, 3.93676572e-03, 9.95963812e-01],\n",
              "       [1.51396031e-04, 7.06561841e-03, 9.92782950e-01],\n",
              "       [1.10232242e-04, 7.25297304e-03, 9.92636800e-01],\n",
              "       [1.16809308e-04, 7.86764547e-03, 9.92015481e-01],\n",
              "       [9.54547941e-05, 3.75944632e-03, 9.96145129e-01],\n",
              "       [1.22054524e-04, 5.16733015e-03, 9.94710565e-01],\n",
              "       [1.29516295e-04, 7.32223969e-03, 9.92548287e-01],\n",
              "       [1.54949987e-04, 1.55942868e-02, 9.84250784e-01],\n",
              "       [1.34134782e-04, 1.25086643e-02, 9.87357259e-01],\n",
              "       [2.43468894e-04, 1.32339731e-01, 8.67416739e-01]], dtype=float32)"
            ]
          },
          "metadata": {
            "tags": []
          },
          "execution_count": 23
        }
      ]
    },
    {
      "cell_type": "code",
      "metadata": {
        "colab": {
          "base_uri": "https://localhost:8080/"
        },
        "id": "YBQk__2xEP4T",
        "outputId": "b82240b2-2417-40e6-d82d-cc2e48714735"
      },
      "source": [
        "print(Dependent_variable)"
      ],
      "execution_count": 24,
      "outputs": [
        {
          "output_type": "stream",
          "text": [
            "     품종_setosa  품종_versicolor  품종_virginica\n",
            "0            1              0             0\n",
            "1            1              0             0\n",
            "2            1              0             0\n",
            "3            1              0             0\n",
            "4            1              0             0\n",
            "..         ...            ...           ...\n",
            "145          0              0             1\n",
            "146          0              0             1\n",
            "147          0              0             1\n",
            "148          0              0             1\n",
            "149          0              0             1\n",
            "\n",
            "[150 rows x 3 columns]\n"
          ],
          "name": "stdout"
        }
      ]
    }
  ]
}