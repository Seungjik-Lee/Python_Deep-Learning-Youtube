{
  "nbformat": 4,
  "nbformat_minor": 0,
  "metadata": {
    "colab": {
      "name": "히든레이어_아이리스 품종 분류.ipynb",
      "provenance": [],
      "toc_visible": true,
      "authorship_tag": "ABX9TyN+X+2/VRDvJevSBV2KcKo7",
      "include_colab_link": true
    },
    "kernelspec": {
      "name": "python3",
      "display_name": "Python 3"
    },
    "language_info": {
      "name": "python"
    }
  },
  "cells": [
    {
      "cell_type": "markdown",
      "metadata": {
        "id": "view-in-github",
        "colab_type": "text"
      },
      "source": [
        "<a href=\"https://colab.research.google.com/github/Seungjik-Lee/Python_Deep-Learning-Youtube/blob/main/%ED%9E%88%EB%93%A0%EB%A0%88%EC%9D%B4%EC%96%B4_%EC%95%84%EC%9D%B4%EB%A6%AC%EC%8A%A4_%ED%92%88%EC%A2%85_%EB%B6%84%EB%A5%98.ipynb\" target=\"_parent\"><img src=\"https://colab.research.google.com/assets/colab-badge.svg\" alt=\"Open In Colab\"/></a>"
      ]
    },
    {
      "cell_type": "markdown",
      "metadata": {
        "id": "IXZDSpa-Cih8"
      },
      "source": [
        "# 라이브러리 임포트"
      ]
    },
    {
      "cell_type": "code",
      "metadata": {
        "id": "BAK9TnQFClJ7"
      },
      "source": [
        "import tensorflow as tf\n",
        "import pandas as pd"
      ],
      "execution_count": 1,
      "outputs": []
    },
    {
      "cell_type": "markdown",
      "metadata": {
        "id": "rzGOArY-CsOW"
      },
      "source": [
        "# 데이터 준비"
      ]
    },
    {
      "cell_type": "code",
      "metadata": {
        "colab": {
          "base_uri": "https://localhost:8080/",
          "height": 204
        },
        "id": "CxYDJExfA1-C",
        "outputId": "6710f743-1eeb-43ed-d5e7-2c048e0178c3"
      },
      "source": [
        "Iris_filepath = 'https://raw.githubusercontent.com/blackdew/tensorflow1/master/csv/iris.csv'\n",
        "Iris_data = pd.read_csv(Iris_filepath)\n",
        "Iris_data.head()"
      ],
      "execution_count": 2,
      "outputs": [
        {
          "output_type": "execute_result",
          "data": {
            "text/html": [
              "<div>\n",
              "<style scoped>\n",
              "    .dataframe tbody tr th:only-of-type {\n",
              "        vertical-align: middle;\n",
              "    }\n",
              "\n",
              "    .dataframe tbody tr th {\n",
              "        vertical-align: top;\n",
              "    }\n",
              "\n",
              "    .dataframe thead th {\n",
              "        text-align: right;\n",
              "    }\n",
              "</style>\n",
              "<table border=\"1\" class=\"dataframe\">\n",
              "  <thead>\n",
              "    <tr style=\"text-align: right;\">\n",
              "      <th></th>\n",
              "      <th>꽃잎길이</th>\n",
              "      <th>꽃잎폭</th>\n",
              "      <th>꽃받침길이</th>\n",
              "      <th>꽃받침폭</th>\n",
              "      <th>품종</th>\n",
              "    </tr>\n",
              "  </thead>\n",
              "  <tbody>\n",
              "    <tr>\n",
              "      <th>0</th>\n",
              "      <td>5.1</td>\n",
              "      <td>3.5</td>\n",
              "      <td>1.4</td>\n",
              "      <td>0.2</td>\n",
              "      <td>setosa</td>\n",
              "    </tr>\n",
              "    <tr>\n",
              "      <th>1</th>\n",
              "      <td>4.9</td>\n",
              "      <td>3.0</td>\n",
              "      <td>1.4</td>\n",
              "      <td>0.2</td>\n",
              "      <td>setosa</td>\n",
              "    </tr>\n",
              "    <tr>\n",
              "      <th>2</th>\n",
              "      <td>4.7</td>\n",
              "      <td>3.2</td>\n",
              "      <td>1.3</td>\n",
              "      <td>0.2</td>\n",
              "      <td>setosa</td>\n",
              "    </tr>\n",
              "    <tr>\n",
              "      <th>3</th>\n",
              "      <td>4.6</td>\n",
              "      <td>3.1</td>\n",
              "      <td>1.5</td>\n",
              "      <td>0.2</td>\n",
              "      <td>setosa</td>\n",
              "    </tr>\n",
              "    <tr>\n",
              "      <th>4</th>\n",
              "      <td>5.0</td>\n",
              "      <td>3.6</td>\n",
              "      <td>1.4</td>\n",
              "      <td>0.2</td>\n",
              "      <td>setosa</td>\n",
              "    </tr>\n",
              "  </tbody>\n",
              "</table>\n",
              "</div>"
            ],
            "text/plain": [
              "   꽃잎길이  꽃잎폭  꽃받침길이  꽃받침폭      품종\n",
              "0   5.1  3.5    1.4   0.2  setosa\n",
              "1   4.9  3.0    1.4   0.2  setosa\n",
              "2   4.7  3.2    1.3   0.2  setosa\n",
              "3   4.6  3.1    1.5   0.2  setosa\n",
              "4   5.0  3.6    1.4   0.2  setosa"
            ]
          },
          "metadata": {
            "tags": []
          },
          "execution_count": 2
        }
      ]
    },
    {
      "cell_type": "markdown",
      "metadata": {
        "id": "cQWh5fxoC07w"
      },
      "source": [
        "# 원-핫-인코딩"
      ]
    },
    {
      "cell_type": "code",
      "metadata": {
        "colab": {
          "base_uri": "https://localhost:8080/",
          "height": 204
        },
        "id": "u1UHAMprC29l",
        "outputId": "e13a48d3-4bbf-421b-8999-25afbb0575b2"
      },
      "source": [
        "encoding = pd.get_dummies(Iris_data)\n",
        "encoding.head()"
      ],
      "execution_count": 3,
      "outputs": [
        {
          "output_type": "execute_result",
          "data": {
            "text/html": [
              "<div>\n",
              "<style scoped>\n",
              "    .dataframe tbody tr th:only-of-type {\n",
              "        vertical-align: middle;\n",
              "    }\n",
              "\n",
              "    .dataframe tbody tr th {\n",
              "        vertical-align: top;\n",
              "    }\n",
              "\n",
              "    .dataframe thead th {\n",
              "        text-align: right;\n",
              "    }\n",
              "</style>\n",
              "<table border=\"1\" class=\"dataframe\">\n",
              "  <thead>\n",
              "    <tr style=\"text-align: right;\">\n",
              "      <th></th>\n",
              "      <th>꽃잎길이</th>\n",
              "      <th>꽃잎폭</th>\n",
              "      <th>꽃받침길이</th>\n",
              "      <th>꽃받침폭</th>\n",
              "      <th>품종_setosa</th>\n",
              "      <th>품종_versicolor</th>\n",
              "      <th>품종_virginica</th>\n",
              "    </tr>\n",
              "  </thead>\n",
              "  <tbody>\n",
              "    <tr>\n",
              "      <th>0</th>\n",
              "      <td>5.1</td>\n",
              "      <td>3.5</td>\n",
              "      <td>1.4</td>\n",
              "      <td>0.2</td>\n",
              "      <td>1</td>\n",
              "      <td>0</td>\n",
              "      <td>0</td>\n",
              "    </tr>\n",
              "    <tr>\n",
              "      <th>1</th>\n",
              "      <td>4.9</td>\n",
              "      <td>3.0</td>\n",
              "      <td>1.4</td>\n",
              "      <td>0.2</td>\n",
              "      <td>1</td>\n",
              "      <td>0</td>\n",
              "      <td>0</td>\n",
              "    </tr>\n",
              "    <tr>\n",
              "      <th>2</th>\n",
              "      <td>4.7</td>\n",
              "      <td>3.2</td>\n",
              "      <td>1.3</td>\n",
              "      <td>0.2</td>\n",
              "      <td>1</td>\n",
              "      <td>0</td>\n",
              "      <td>0</td>\n",
              "    </tr>\n",
              "    <tr>\n",
              "      <th>3</th>\n",
              "      <td>4.6</td>\n",
              "      <td>3.1</td>\n",
              "      <td>1.5</td>\n",
              "      <td>0.2</td>\n",
              "      <td>1</td>\n",
              "      <td>0</td>\n",
              "      <td>0</td>\n",
              "    </tr>\n",
              "    <tr>\n",
              "      <th>4</th>\n",
              "      <td>5.0</td>\n",
              "      <td>3.6</td>\n",
              "      <td>1.4</td>\n",
              "      <td>0.2</td>\n",
              "      <td>1</td>\n",
              "      <td>0</td>\n",
              "      <td>0</td>\n",
              "    </tr>\n",
              "  </tbody>\n",
              "</table>\n",
              "</div>"
            ],
            "text/plain": [
              "   꽃잎길이  꽃잎폭  꽃받침길이  꽃받침폭  품종_setosa  품종_versicolor  품종_virginica\n",
              "0   5.1  3.5    1.4   0.2          1              0             0\n",
              "1   4.9  3.0    1.4   0.2          1              0             0\n",
              "2   4.7  3.2    1.3   0.2          1              0             0\n",
              "3   4.6  3.1    1.5   0.2          1              0             0\n",
              "4   5.0  3.6    1.4   0.2          1              0             0"
            ]
          },
          "metadata": {
            "tags": []
          },
          "execution_count": 3
        }
      ]
    },
    {
      "cell_type": "markdown",
      "metadata": {
        "id": "-uCOFQbKC65o"
      },
      "source": [
        "# 독립변수와 종속변수 분리"
      ]
    },
    {
      "cell_type": "code",
      "metadata": {
        "colab": {
          "base_uri": "https://localhost:8080/"
        },
        "id": "QgIX6xOnC-XN",
        "outputId": "d75b5e71-1b91-4dd9-9ff0-0877230b89bb"
      },
      "source": [
        "print(encoding.columns)"
      ],
      "execution_count": 4,
      "outputs": [
        {
          "output_type": "stream",
          "text": [
            "Index(['꽃잎길이', '꽃잎폭', '꽃받침길이', '꽃받침폭', '품종_setosa', '품종_versicolor',\n",
            "       '품종_virginica'],\n",
            "      dtype='object')\n"
          ],
          "name": "stdout"
        }
      ]
    },
    {
      "cell_type": "code",
      "metadata": {
        "colab": {
          "base_uri": "https://localhost:8080/"
        },
        "id": "SBjhyRV_DBKC",
        "outputId": "bc9383b6-3f01-4589-f30d-2260c5a8b31a"
      },
      "source": [
        "Independent_variable = encoding[['꽃잎길이', '꽃잎폭', '꽃받침길이', '꽃받침폭']]\n",
        "Dependent_variable = encoding[['품종_setosa', '품종_versicolor', '품종_virginica']]\n",
        "print(Independent_variable.shape, Dependent_variable.shape)"
      ],
      "execution_count": 5,
      "outputs": [
        {
          "output_type": "stream",
          "text": [
            "(150, 4) (150, 3)\n"
          ],
          "name": "stdout"
        }
      ]
    },
    {
      "cell_type": "markdown",
      "metadata": {
        "id": "M5B3FGjLDCmF"
      },
      "source": [
        "# 모델 만들기"
      ]
    },
    {
      "cell_type": "code",
      "metadata": {
        "id": "u4qRuCEzDGWc"
      },
      "source": [
        "X = tf.keras.layers.Input(shape = [4])\n",
        "H = tf.keras.layers.Dense(8, activation='swish')(X)\n",
        "H = tf.keras.layers.Dense(8, activation='swish')(H)\n",
        "H = tf.keras.layers.Dense(8, activation='swish')(H)\n",
        "Y = tf.keras.layers.Dense(3, activation='softmax')(H)\n",
        "\n",
        "model = tf.keras.models.Model(X, Y)\n",
        "model.compile(loss='categorical_crossentropy', metrics='accuracy')"
      ],
      "execution_count": 6,
      "outputs": []
    },
    {
      "cell_type": "code",
      "metadata": {
        "colab": {
          "base_uri": "https://localhost:8080/"
        },
        "id": "OP52N0zMEvig",
        "outputId": "02a8555f-aa71-44c1-dd14-3fd3f0e09085"
      },
      "source": [
        "model.summary()"
      ],
      "execution_count": 7,
      "outputs": [
        {
          "output_type": "stream",
          "text": [
            "Model: \"model\"\n",
            "_________________________________________________________________\n",
            "Layer (type)                 Output Shape              Param #   \n",
            "=================================================================\n",
            "input_1 (InputLayer)         [(None, 4)]               0         \n",
            "_________________________________________________________________\n",
            "dense (Dense)                (None, 8)                 40        \n",
            "_________________________________________________________________\n",
            "dense_1 (Dense)              (None, 8)                 72        \n",
            "_________________________________________________________________\n",
            "dense_2 (Dense)              (None, 8)                 72        \n",
            "_________________________________________________________________\n",
            "dense_3 (Dense)              (None, 3)                 27        \n",
            "=================================================================\n",
            "Total params: 211\n",
            "Trainable params: 211\n",
            "Non-trainable params: 0\n",
            "_________________________________________________________________\n"
          ],
          "name": "stdout"
        }
      ]
    },
    {
      "cell_type": "markdown",
      "metadata": {
        "id": "y1j8LLtiDJ7t"
      },
      "source": [
        "# 모델 학습"
      ]
    },
    {
      "cell_type": "code",
      "metadata": {
        "colab": {
          "base_uri": "https://localhost:8080/"
        },
        "id": "RnJeeCtMDMX7",
        "outputId": "a5bc1fe7-ddcb-4e33-f73e-16b7e08415fd"
      },
      "source": [
        "model.fit(Independent_variable, Dependent_variable, epochs = 1000, verbose = 0)\n",
        "model.fit(Independent_variable, Dependent_variable, epochs = 10)"
      ],
      "execution_count": 8,
      "outputs": [
        {
          "output_type": "stream",
          "text": [
            "Epoch 1/10\n",
            "5/5 [==============================] - 0s 3ms/step - loss: 0.0457 - accuracy: 0.9867\n",
            "Epoch 2/10\n",
            "5/5 [==============================] - 0s 3ms/step - loss: 0.0465 - accuracy: 0.9800\n",
            "Epoch 3/10\n",
            "5/5 [==============================] - 0s 3ms/step - loss: 0.0528 - accuracy: 0.9800\n",
            "Epoch 4/10\n",
            "5/5 [==============================] - 0s 3ms/step - loss: 0.0479 - accuracy: 0.9733\n",
            "Epoch 5/10\n",
            "5/5 [==============================] - 0s 3ms/step - loss: 0.0480 - accuracy: 0.9867\n",
            "Epoch 6/10\n",
            "5/5 [==============================] - 0s 2ms/step - loss: 0.0475 - accuracy: 0.9800\n",
            "Epoch 7/10\n",
            "5/5 [==============================] - 0s 2ms/step - loss: 0.0437 - accuracy: 0.9800\n",
            "Epoch 8/10\n",
            "5/5 [==============================] - 0s 2ms/step - loss: 0.0454 - accuracy: 0.9800\n",
            "Epoch 9/10\n",
            "5/5 [==============================] - 0s 2ms/step - loss: 0.0504 - accuracy: 0.9800\n",
            "Epoch 10/10\n",
            "5/5 [==============================] - 0s 2ms/step - loss: 0.0456 - accuracy: 0.9800\n"
          ],
          "name": "stdout"
        },
        {
          "output_type": "execute_result",
          "data": {
            "text/plain": [
              "<tensorflow.python.keras.callbacks.History at 0x7ffad5392450>"
            ]
          },
          "metadata": {
            "tags": []
          },
          "execution_count": 8
        }
      ]
    },
    {
      "cell_type": "markdown",
      "metadata": {
        "id": "QiODPqFGDWfP"
      },
      "source": [
        "# 모델 이용"
      ]
    },
    {
      "cell_type": "code",
      "metadata": {
        "colab": {
          "base_uri": "https://localhost:8080/"
        },
        "id": "lbK6lcYEDZGX",
        "outputId": "15e35f2f-1542-4b7c-b0d3-ef5abe8e909d"
      },
      "source": [
        "model.predict(Independent_variable[0:5])"
      ],
      "execution_count": 9,
      "outputs": [
        {
          "output_type": "execute_result",
          "data": {
            "text/plain": [
              "array([[9.9999976e-01, 6.5423866e-10, 2.3434038e-07],\n",
              "       [9.9999869e-01, 4.7291753e-09, 1.3528767e-06],\n",
              "       [9.9999928e-01, 2.6356104e-09, 6.7524604e-07],\n",
              "       [9.9999785e-01, 1.3366550e-08, 2.1926837e-06],\n",
              "       [9.9999976e-01, 6.8171768e-10, 2.0800866e-07]], dtype=float32)"
            ]
          },
          "metadata": {
            "tags": []
          },
          "execution_count": 9
        }
      ]
    },
    {
      "cell_type": "code",
      "metadata": {
        "colab": {
          "base_uri": "https://localhost:8080/"
        },
        "id": "3ru02iIDDeem",
        "outputId": "dfdd11c1-59ef-42e9-944a-10be1872230a"
      },
      "source": [
        "print(Dependent_variable[0:5])"
      ],
      "execution_count": 10,
      "outputs": [
        {
          "output_type": "stream",
          "text": [
            "   품종_setosa  품종_versicolor  품종_virginica\n",
            "0          1              0             0\n",
            "1          1              0             0\n",
            "2          1              0             0\n",
            "3          1              0             0\n",
            "4          1              0             0\n"
          ],
          "name": "stdout"
        }
      ]
    },
    {
      "cell_type": "code",
      "metadata": {
        "colab": {
          "base_uri": "https://localhost:8080/"
        },
        "id": "nAGVrwuMENYE",
        "outputId": "c885182d-dda2-4b26-9950-fb9aaed55234"
      },
      "source": [
        "model.predict(Independent_variable)"
      ],
      "execution_count": 11,
      "outputs": [
        {
          "output_type": "execute_result",
          "data": {
            "text/plain": [
              "array([[9.99999762e-01, 6.54238663e-10, 2.34340376e-07],\n",
              "       [9.99998689e-01, 4.72917527e-09, 1.35287667e-06],\n",
              "       [9.99999285e-01, 2.63561040e-09, 6.75246042e-07],\n",
              "       [9.99997854e-01, 1.33665496e-08, 2.19268372e-06],\n",
              "       [9.99999762e-01, 6.81717682e-10, 2.08008657e-07],\n",
              "       [9.99999762e-01, 1.13301779e-09, 2.86155995e-07],\n",
              "       [9.99999166e-01, 5.03777597e-09, 8.40575126e-07],\n",
              "       [9.99999523e-01, 1.88827687e-09, 5.12380666e-07],\n",
              "       [9.99996424e-01, 2.40748346e-08, 3.60386616e-06],\n",
              "       [9.99998927e-01, 4.14418189e-09, 1.12240036e-06],\n",
              "       [9.99999881e-01, 2.87370377e-10, 1.26665526e-07],\n",
              "       [9.99999046e-01, 5.74253178e-09, 1.01231456e-06],\n",
              "       [9.99998808e-01, 4.26632285e-09, 1.20346749e-06],\n",
              "       [9.99999046e-01, 4.39891457e-09, 9.85907491e-07],\n",
              "       [1.00000000e+00, 1.16803763e-11, 1.32239615e-08],\n",
              "       [1.00000000e+00, 4.38348628e-11, 2.09137809e-08],\n",
              "       [1.00000000e+00, 1.18425936e-10, 5.77639696e-08],\n",
              "       [9.99999762e-01, 9.10768239e-10, 2.97065753e-07],\n",
              "       [9.99999762e-01, 4.59639715e-10, 1.89332084e-07],\n",
              "       [9.99999762e-01, 7.23251348e-10, 1.89881433e-07],\n",
              "       [9.99999285e-01, 2.22619834e-09, 7.04266654e-07],\n",
              "       [9.99999642e-01, 1.36444533e-09, 3.33082284e-07],\n",
              "       [9.99999881e-01, 4.25866620e-10, 1.30876273e-07],\n",
              "       [9.99995351e-01, 3.30729826e-08, 4.69903671e-06],\n",
              "       [9.99996185e-01, 3.59762922e-08, 3.78723485e-06],\n",
              "       [9.99997258e-01, 1.23160193e-08, 2.75547245e-06],\n",
              "       [9.99998569e-01, 8.12685919e-09, 1.48351637e-06],\n",
              "       [9.99999762e-01, 8.39018188e-10, 2.92657717e-07],\n",
              "       [9.99999762e-01, 6.59069410e-10, 2.73624920e-07],\n",
              "       [9.99997854e-01, 1.34187115e-08, 2.11183510e-06],\n",
              "       [9.99997497e-01, 1.40056144e-08, 2.50701146e-06],\n",
              "       [9.99999404e-01, 1.65751923e-09, 5.87555917e-07],\n",
              "       [1.00000000e+00, 1.68144887e-10, 5.41453318e-08],\n",
              "       [1.00000000e+00, 4.32552258e-11, 2.23274110e-08],\n",
              "       [9.99998927e-01, 4.14418189e-09, 1.12240036e-06],\n",
              "       [9.99999642e-01, 7.08492931e-10, 3.19143567e-07],\n",
              "       [9.99999881e-01, 1.42410417e-10, 1.01490151e-07],\n",
              "       [9.99998927e-01, 4.14418189e-09, 1.12240036e-06],\n",
              "       [9.99998093e-01, 1.06494706e-08, 1.85753458e-06],\n",
              "       [9.99999523e-01, 1.44746348e-09, 4.47973491e-07],\n",
              "       [9.99999762e-01, 7.11384063e-10, 2.37663912e-07],\n",
              "       [9.99978185e-01, 1.45942934e-07, 2.16418248e-05],\n",
              "       [9.99998927e-01, 6.54913856e-09, 1.09766813e-06],\n",
              "       [9.99997497e-01, 1.82372784e-08, 2.55929990e-06],\n",
              "       [9.99998450e-01, 1.32859324e-08, 1.59353522e-06],\n",
              "       [9.99997973e-01, 9.09838160e-09, 2.03852323e-06],\n",
              "       [9.99999762e-01, 8.74354977e-10, 2.14207091e-07],\n",
              "       [9.99998927e-01, 5.88682392e-09, 1.12238547e-06],\n",
              "       [9.99999881e-01, 3.75458414e-10, 1.44787975e-07],\n",
              "       [9.99999523e-01, 1.46903278e-09, 4.74457920e-07],\n",
              "       [9.39530977e-08, 9.99877334e-01, 1.22553334e-04],\n",
              "       [1.89567274e-07, 9.99690533e-01, 3.09231487e-04],\n",
              "       [2.21070223e-07, 9.97734547e-01, 2.26520398e-03],\n",
              "       [3.41698723e-07, 9.99389052e-01, 6.10617455e-04],\n",
              "       [2.48447975e-07, 9.97634053e-01, 2.36566644e-03],\n",
              "       [3.73723651e-07, 9.97254550e-01, 2.74511636e-03],\n",
              "       [3.11846208e-07, 9.95351195e-01, 4.64848476e-03],\n",
              "       [4.53008442e-06, 9.99011993e-01, 9.83398524e-04],\n",
              "       [1.54207328e-07, 9.99791324e-01, 2.08595477e-04],\n",
              "       [4.03049512e-07, 9.99552429e-01, 4.47145809e-04],\n",
              "       [7.82037432e-07, 9.99744475e-01, 2.54682556e-04],\n",
              "       [2.45538729e-07, 9.99669433e-01, 3.30344104e-04],\n",
              "       [2.34045473e-07, 9.99862075e-01, 1.37688738e-04],\n",
              "       [3.34239502e-07, 9.92909312e-01, 7.09030684e-03],\n",
              "       [4.34376545e-07, 9.99745309e-01, 2.54243787e-04],\n",
              "       [8.23363067e-08, 9.99910831e-01, 8.90152733e-05],\n",
              "       [4.39917244e-07, 9.85288680e-01, 1.47108128e-02],\n",
              "       [2.23519649e-07, 9.99855995e-01, 1.43741199e-04],\n",
              "       [3.07178908e-07, 9.52569902e-01, 4.74297777e-02],\n",
              "       [2.69363028e-07, 9.99853134e-01, 1.46623934e-04],\n",
              "       [2.53499167e-07, 5.02414048e-01, 4.97585773e-01],\n",
              "       [1.35556689e-07, 9.99892473e-01, 1.07410677e-04],\n",
              "       [2.69459264e-07, 6.89590871e-01, 3.10408890e-01],\n",
              "       [2.92564522e-07, 9.98659849e-01, 1.33995258e-03],\n",
              "       [1.11351554e-07, 9.99899745e-01, 1.00148478e-04],\n",
              "       [1.09372294e-07, 9.99886513e-01, 1.13311587e-04],\n",
              "       [2.15312681e-07, 9.98301864e-01, 1.69785519e-03],\n",
              "       [2.75497513e-07, 8.16238761e-01, 1.83760941e-01],\n",
              "       [3.29954901e-07, 9.95593131e-01, 4.40646382e-03],\n",
              "       [6.57234523e-06, 9.98599350e-01, 1.39407790e-03],\n",
              "       [3.20736831e-07, 9.99839187e-01, 1.60413707e-04],\n",
              "       [6.06328229e-07, 9.99724567e-01, 2.74765014e-04],\n",
              "       [2.04277072e-07, 9.99865532e-01, 1.34202783e-04],\n",
              "       [4.26239772e-08, 8.34144801e-02, 9.16585505e-01],\n",
              "       [5.02008788e-07, 9.67203617e-01, 3.27959582e-02],\n",
              "       [3.22419453e-07, 9.98518050e-01, 1.48161256e-03],\n",
              "       [2.04720394e-07, 9.99224186e-01, 7.75555614e-04],\n",
              "       [2.42867884e-07, 9.99013424e-01, 9.86324623e-04],\n",
              "       [2.34762467e-07, 9.99848127e-01, 1.51647153e-04],\n",
              "       [3.19136547e-07, 9.99670625e-01, 3.28983180e-04],\n",
              "       [3.99460362e-07, 9.97974694e-01, 2.02492881e-03],\n",
              "       [3.00036021e-07, 9.98271585e-01, 1.72803609e-03],\n",
              "       [2.00901411e-07, 9.99872804e-01, 1.26893487e-04],\n",
              "       [3.73859871e-06, 9.99132335e-01, 8.64038477e-04],\n",
              "       [3.21663293e-07, 9.99521255e-01, 4.78440081e-04],\n",
              "       [2.07385767e-07, 9.99866605e-01, 1.33149777e-04],\n",
              "       [2.54157669e-07, 9.99785721e-01, 2.14017244e-04],\n",
              "       [1.47237628e-07, 9.99874353e-01, 1.25552106e-04],\n",
              "       [7.36119473e-05, 9.94775534e-01, 5.15076471e-03],\n",
              "       [2.34907120e-07, 9.99827087e-01, 1.72686254e-04],\n",
              "       [5.01506626e-14, 1.60857189e-06, 9.99998450e-01],\n",
              "       [1.22817612e-09, 2.73248018e-03, 9.97267485e-01],\n",
              "       [2.72918233e-11, 1.69353574e-04, 9.99830604e-01],\n",
              "       [4.37425679e-10, 1.28529815e-03, 9.98714685e-01],\n",
              "       [3.37320059e-12, 2.85417500e-05, 9.99971509e-01],\n",
              "       [2.42046536e-13, 5.67958023e-06, 9.99994278e-01],\n",
              "       [5.09656140e-08, 6.71757683e-02, 9.32824194e-01],\n",
              "       [2.05941635e-11, 1.40343560e-04, 9.99859691e-01],\n",
              "       [5.09128226e-11, 2.34142077e-04, 9.99765813e-01],\n",
              "       [1.17912873e-12, 1.68191254e-05, 9.99983191e-01],\n",
              "       [2.94358706e-08, 7.09013641e-02, 9.29098547e-01],\n",
              "       [1.34766986e-09, 3.62714450e-03, 9.96372938e-01],\n",
              "       [3.73412717e-10, 1.36954465e-03, 9.98630524e-01],\n",
              "       [3.52894297e-10, 8.90260213e-04, 9.99109685e-01],\n",
              "       [1.12168018e-11, 5.95766905e-05, 9.99940395e-01],\n",
              "       [1.76045123e-10, 6.43889362e-04, 9.99356091e-01],\n",
              "       [2.94596925e-09, 7.67227635e-03, 9.92327750e-01],\n",
              "       [1.36998941e-12, 2.16816770e-05, 9.99978304e-01],\n",
              "       [4.90501851e-16, 1.13205871e-07, 9.99999881e-01],\n",
              "       [3.62070693e-08, 7.25023970e-02, 9.27497566e-01],\n",
              "       [2.48201980e-11, 1.51018030e-04, 9.99848962e-01],\n",
              "       [2.10092033e-09, 4.21226071e-03, 9.95787799e-01],\n",
              "       [1.68677748e-13, 4.46557169e-06, 9.99995589e-01],\n",
              "       [7.78192160e-08, 1.77576065e-01, 8.22423816e-01],\n",
              "       [1.51649318e-10, 6.18782418e-04, 9.99381185e-01],\n",
              "       [7.58567542e-10, 2.93052499e-03, 9.97069538e-01],\n",
              "       [1.61114841e-07, 3.64127070e-01, 6.35872781e-01],\n",
              "       [1.25882707e-07, 2.63417512e-01, 7.36582339e-01],\n",
              "       [1.81648672e-11, 9.78144089e-05, 9.99902129e-01],\n",
              "       [1.48401220e-08, 4.66111526e-02, 9.53388810e-01],\n",
              "       [4.26949656e-11, 2.65375478e-04, 9.99734581e-01],\n",
              "       [3.38338552e-10, 2.02502660e-03, 9.97974932e-01],\n",
              "       [6.45203769e-12, 4.46031263e-05, 9.99955416e-01],\n",
              "       [2.31738866e-07, 5.45101702e-01, 4.54898000e-01],\n",
              "       [4.08889678e-09, 8.67839810e-03, 9.91321623e-01],\n",
              "       [4.58621249e-12, 5.25325595e-05, 9.99947429e-01],\n",
              "       [7.23472584e-12, 5.00305214e-05, 9.99949932e-01],\n",
              "       [3.22770632e-09, 8.07297789e-03, 9.91927028e-01],\n",
              "       [1.86576813e-07, 3.84283096e-01, 6.15716815e-01],\n",
              "       [1.95159444e-09, 6.28623459e-03, 9.93713796e-01],\n",
              "       [7.36367217e-12, 5.51481935e-05, 9.99944806e-01],\n",
              "       [3.88883947e-09, 1.22184940e-02, 9.87781525e-01],\n",
              "       [1.22817612e-09, 2.73248018e-03, 9.97267485e-01],\n",
              "       [2.87833841e-12, 2.79038995e-05, 9.99972105e-01],\n",
              "       [2.41714136e-12, 2.44284529e-05, 9.99975562e-01],\n",
              "       [5.21210519e-10, 1.80713763e-03, 9.98192847e-01],\n",
              "       [6.11772188e-09, 1.44130290e-02, 9.85587001e-01],\n",
              "       [5.57351543e-09, 1.42074320e-02, 9.85792577e-01],\n",
              "       [8.80899798e-11, 3.45194945e-04, 9.99654770e-01],\n",
              "       [1.50488866e-08, 2.90486403e-02, 9.70951378e-01]], dtype=float32)"
            ]
          },
          "metadata": {
            "tags": []
          },
          "execution_count": 11
        }
      ]
    },
    {
      "cell_type": "code",
      "metadata": {
        "colab": {
          "base_uri": "https://localhost:8080/"
        },
        "id": "YBQk__2xEP4T",
        "outputId": "bb26bccb-968c-4cf4-f97d-3600eca7b1db"
      },
      "source": [
        "print(Dependent_variable)"
      ],
      "execution_count": 12,
      "outputs": [
        {
          "output_type": "stream",
          "text": [
            "     품종_setosa  품종_versicolor  품종_virginica\n",
            "0            1              0             0\n",
            "1            1              0             0\n",
            "2            1              0             0\n",
            "3            1              0             0\n",
            "4            1              0             0\n",
            "..         ...            ...           ...\n",
            "145          0              0             1\n",
            "146          0              0             1\n",
            "147          0              0             1\n",
            "148          0              0             1\n",
            "149          0              0             1\n",
            "\n",
            "[150 rows x 3 columns]\n"
          ],
          "name": "stdout"
        }
      ]
    }
  ]
}